{
 "cells": [
  {
   "cell_type": "markdown",
   "metadata": {},
   "source": [
    "<center>\n",
    "    <h1>DatatableTon</h1>\n",
    "    💯 datatable exercises\n",
    "    <br>\n",
    "    <br>\n",
    "    <a href='https://github.com/vopani/datatableton/blob/master/LICENSE'>\n",
    "        <img src='https://img.shields.io/badge/license-Apache%202.0-blue.svg?logo=apache'>\n",
    "    </a>\n",
    "    <a href='https://github.com/vopani/datatableton'>\n",
    "        <img src='https://img.shields.io/github/stars/vopani/datatableton?color=yellowgreen&logo=github'>\n",
    "    </a>\n",
    "    <a href='https://twitter.com/vopani'>\n",
    "        <img src='https://img.shields.io/twitter/follow/vopani'>\n",
    "    </a>\n",
    "</center>"
   ]
  },
  {
   "cell_type": "markdown",
   "metadata": {},
   "source": [
    "<center>\n",
    "    This is Set 7: Multiple Frames (Exercises 61-70) of <b>DatatableTon</b>: <i>💯 datatable exercises</i>\n",
    "    <br>\n",
    "    You can find all the exercises and solutions on <a href=\"https://github.com/vopani/datatableton#exercises-\">GitHub</a>\n",
    "</center>"
   ]
  },
  {
   "cell_type": "markdown",
   "metadata": {},
   "source": [
    "**Prerequisites**\n",
    "* The `datatable` package should be upgraded to the latest version (or v1.0.0+).\n",
    "* The sample dataset ___ will be used for the exercises."
   ]
  },
  {
   "cell_type": "code",
   "execution_count": 54,
   "metadata": {},
   "outputs": [],
   "source": [
    "# !python3 -m pip install -U pip\n",
    "# !python3 -m pip install -U datatable\n"
   ]
  },
  {
   "cell_type": "code",
   "execution_count": 55,
   "metadata": {},
   "outputs": [],
   "source": [
    "import datatable as dt"
   ]
  },
  {
   "cell_type": "markdown",
   "metadata": {},
   "source": [
    "**Exercise 61: Read multiple CSV files from the `Data` folder at once; print the name of each file and then convert them into separate frames respectively**"
   ]
  },
  {
   "cell_type": "code",
   "execution_count": 56,
   "metadata": {},
   "outputs": [
    {
     "name": "stdout",
     "output_type": "stream",
     "text": [
      "Data/people.csv\n",
      "Data/orders_jan.csv\n",
      "Data/orders_feb.csv\n",
      "Data/returns.csv\n"
     ]
    }
   ],
   "source": [
    "DT_iterator = dt.iread('Data/*.csv')\n",
    "data=list(DT_iterator)\n",
    "for i in range(0, len(data)):\n",
    "    print(data[i].source)"
   ]
  },
  {
   "cell_type": "code",
   "execution_count": 57,
   "metadata": {},
   "outputs": [],
   "source": [
    "people=data[0]\n",
    "orders_jan=data[1]\n",
    "orders_feb=data[2]\n",
    "returns = data[3]"
   ]
  },
  {
   "cell_type": "markdown",
   "metadata": {},
   "source": [
    "**Exercise 62: Display the `orders_jan` and `orders_feb` frames and create a new frame by appending rows of both these frames into a new frame called `orders_total`.**"
   ]
  },
  {
   "cell_type": "code",
   "execution_count": 58,
   "metadata": {},
   "outputs": [
    {
     "data": {
      "text/html": [
       "<div class='datatable'>\n",
       "  <table class='frame'>\n",
       "  <thead>\n",
       "    <tr class='colnames'><td class='row_index'></td><th>Order ID</th><th>Category</th><th>Sales</th><th>Quantity</th><th>Discount</th><th>Month</th></tr>\n",
       "    <tr class='coltypes'><td class='row_index'></td><td class='float' title='float64'>&#x25AA;&#x25AA;&#x25AA;&#x25AA;&#x25AA;&#x25AA;&#x25AA;&#x25AA;</td><td class='str' title='str32'>&#x25AA;&#x25AA;&#x25AA;&#x25AA;</td><td class='float' title='float64'>&#x25AA;&#x25AA;&#x25AA;&#x25AA;&#x25AA;&#x25AA;&#x25AA;&#x25AA;</td><td class='int' title='int32'>&#x25AA;&#x25AA;&#x25AA;&#x25AA;</td><td class='float' title='float64'>&#x25AA;&#x25AA;&#x25AA;&#x25AA;&#x25AA;&#x25AA;&#x25AA;&#x25AA;</td><td class='str' title='str32'>&#x25AA;&#x25AA;&#x25AA;&#x25AA;</td></tr>\n",
       "  </thead>\n",
       "  <tbody>\n",
       "    <tr><td class='row_index'>0</td><td>1</td><td>Apparels</td><td>16.448</td><td>2</td><td>0.2</td><td>Jan</td></tr>\n",
       "    <tr><td class='row_index'>1</td><td>1.1</td><td>Electronics</td><td>65</td><td>87</td><td>0.2</td><td>Jan</td></tr>\n",
       "    <tr><td class='row_index'>2</td><td>1.2</td><td>Cosmetics</td><td>272.736</td><td>3</td><td>0.2</td><td>Jan</td></tr>\n",
       "    <tr><td class='row_index'>3</td><td>1.3</td><td>Apparels</td><td>3.54</td><td>2</td><td>0.8</td><td>Jan</td></tr>\n",
       "    <tr><td class='row_index'>4</td><td>1.4</td><td>Cosmetics</td><td>19.536</td><td>3</td><td>0.2</td><td>Jan</td></tr>\n",
       "    <tr><td class='row_index'>5</td><td>1.5</td><td>Electronics</td><td>19.44</td><td>3</td><td>0</td><td>Jan</td></tr>\n",
       "    <tr><td class='row_index'>6</td><td>1.6</td><td>Apparels</td><td>12.78</td><td>3</td><td>0</td><td>Jan</td></tr>\n",
       "    <tr><td class='row_index'>7</td><td>1.7</td><td>Apparels</td><td>2573.82</td><td>9</td><td>0</td><td>Jan</td></tr>\n",
       "    <tr><td class='row_index'>8</td><td>1.8</td><td>Cosmetics</td><td>609.98</td><td>2</td><td>0</td><td>Jan</td></tr>\n",
       "    <tr><td class='row_index'>9</td><td>1.9</td><td>Apparels</td><td>300</td><td>10</td><td>0.5</td><td>Jan</td></tr>\n",
       "  </tbody>\n",
       "  </table>\n",
       "  <div class='footer'>\n",
       "    <div class='frame_dimensions'>10 rows &times; 6 columns</div>\n",
       "  </div>\n",
       "</div>\n"
      ],
      "text/plain": [
       "<Frame#7fafa8327be8 10x6>"
      ]
     },
     "execution_count": 58,
     "metadata": {},
     "output_type": "execute_result"
    }
   ],
   "source": [
    "orders_jan.head()"
   ]
  },
  {
   "cell_type": "code",
   "execution_count": 59,
   "metadata": {},
   "outputs": [
    {
     "data": {
      "text/html": [
       "<div class='datatable'>\n",
       "  <table class='frame'>\n",
       "  <thead>\n",
       "    <tr class='colnames'><td class='row_index'></td><th>Order ID</th><th>Category</th><th>Sales</th><th>Quantity</th><th>Discount</th><th>Month</th></tr>\n",
       "    <tr class='coltypes'><td class='row_index'></td><td class='float' title='float64'>&#x25AA;&#x25AA;&#x25AA;&#x25AA;&#x25AA;&#x25AA;&#x25AA;&#x25AA;</td><td class='str' title='str32'>&#x25AA;&#x25AA;&#x25AA;&#x25AA;</td><td class='float' title='float64'>&#x25AA;&#x25AA;&#x25AA;&#x25AA;&#x25AA;&#x25AA;&#x25AA;&#x25AA;</td><td class='int' title='int32'>&#x25AA;&#x25AA;&#x25AA;&#x25AA;</td><td class='float' title='float64'>&#x25AA;&#x25AA;&#x25AA;&#x25AA;&#x25AA;&#x25AA;&#x25AA;&#x25AA;</td><td class='str' title='str32'>&#x25AA;&#x25AA;&#x25AA;&#x25AA;</td></tr>\n",
       "  </thead>\n",
       "  <tbody>\n",
       "    <tr><td class='row_index'>0</td><td>2</td><td>Apparels</td><td>16.448</td><td>2</td><td>0.2</td><td>Feb</td></tr>\n",
       "    <tr><td class='row_index'>1</td><td>2.1</td><td>Flowers</td><td>65</td><td>87</td><td>0.2</td><td>Feb</td></tr>\n",
       "    <tr><td class='row_index'>2</td><td>2.2</td><td>International Cuisine</td><td>272.736</td><td>3</td><td>0.2</td><td>Feb</td></tr>\n",
       "    <tr><td class='row_index'>3</td><td>2.3</td><td>Paper Products </td><td>3.54</td><td>2</td><td>0.8</td><td>Feb</td></tr>\n",
       "    <tr><td class='row_index'>4</td><td>2.4</td><td>gift cards</td><td>19.536</td><td>3</td><td>0.2</td><td>Feb</td></tr>\n",
       "    <tr><td class='row_index'>5</td><td>2.5</td><td>Pet Care</td><td>19.44</td><td>3</td><td>0</td><td>Feb</td></tr>\n",
       "    <tr><td class='row_index'>6</td><td>2.6</td><td>Pharmacy</td><td>12.78</td><td>3</td><td>0</td><td>Feb</td></tr>\n",
       "    <tr><td class='row_index'>7</td><td>2.7</td><td>Grocery</td><td>2573.82</td><td>9</td><td>0</td><td>Feb</td></tr>\n",
       "    <tr><td class='row_index'>8</td><td>2.8</td><td>Pet Care</td><td>609.98</td><td>2</td><td>0</td><td>Feb</td></tr>\n",
       "    <tr><td class='row_index'>9</td><td>2.9</td><td>Pharmacy</td><td>300</td><td>10</td><td>0.5</td><td>Feb</td></tr>\n",
       "  </tbody>\n",
       "  </table>\n",
       "  <div class='footer'>\n",
       "    <div class='frame_dimensions'>10 rows &times; 6 columns</div>\n",
       "  </div>\n",
       "</div>\n"
      ],
      "text/plain": [
       "<Frame#7fafa8327dc8 10x6>"
      ]
     },
     "execution_count": 59,
     "metadata": {},
     "output_type": "execute_result"
    }
   ],
   "source": [
    "orders_feb.head()"
   ]
  },
  {
   "cell_type": "code",
   "execution_count": 60,
   "metadata": {},
   "outputs": [
    {
     "data": {
      "text/html": [
       "<div class='datatable'>\n",
       "  <table class='frame'>\n",
       "  <thead>\n",
       "    <tr class='colnames'><td class='row_index'></td><th>Order ID</th><th>Category</th><th>Sales</th><th>Quantity</th><th>Discount</th><th>Month</th></tr>\n",
       "    <tr class='coltypes'><td class='row_index'></td><td class='float' title='float64'>&#x25AA;&#x25AA;&#x25AA;&#x25AA;&#x25AA;&#x25AA;&#x25AA;&#x25AA;</td><td class='str' title='str32'>&#x25AA;&#x25AA;&#x25AA;&#x25AA;</td><td class='float' title='float64'>&#x25AA;&#x25AA;&#x25AA;&#x25AA;&#x25AA;&#x25AA;&#x25AA;&#x25AA;</td><td class='int' title='int32'>&#x25AA;&#x25AA;&#x25AA;&#x25AA;</td><td class='float' title='float64'>&#x25AA;&#x25AA;&#x25AA;&#x25AA;&#x25AA;&#x25AA;&#x25AA;&#x25AA;</td><td class='str' title='str32'>&#x25AA;&#x25AA;&#x25AA;&#x25AA;</td></tr>\n",
       "  </thead>\n",
       "  <tbody>\n",
       "    <tr><td class='row_index'>0</td><td>1</td><td>Apparels</td><td>16.448</td><td>2</td><td>0.2</td><td>Jan</td></tr>\n",
       "    <tr><td class='row_index'>1</td><td>1.1</td><td>Electronics</td><td>65</td><td>87</td><td>0.2</td><td>Jan</td></tr>\n",
       "    <tr><td class='row_index'>2</td><td>1.2</td><td>Cosmetics</td><td>272.736</td><td>3</td><td>0.2</td><td>Jan</td></tr>\n",
       "    <tr><td class='row_index'>3</td><td>1.3</td><td>Apparels</td><td>3.54</td><td>2</td><td>0.8</td><td>Jan</td></tr>\n",
       "    <tr><td class='row_index'>4</td><td>1.4</td><td>Cosmetics</td><td>19.536</td><td>3</td><td>0.2</td><td>Jan</td></tr>\n",
       "    <tr><td class='row_index'>5</td><td>1.5</td><td>Electronics</td><td>19.44</td><td>3</td><td>0</td><td>Jan</td></tr>\n",
       "    <tr><td class='row_index'>6</td><td>1.6</td><td>Apparels</td><td>12.78</td><td>3</td><td>0</td><td>Jan</td></tr>\n",
       "    <tr><td class='row_index'>7</td><td>1.7</td><td>Apparels</td><td>2573.82</td><td>9</td><td>0</td><td>Jan</td></tr>\n",
       "    <tr><td class='row_index'>8</td><td>1.8</td><td>Cosmetics</td><td>609.98</td><td>2</td><td>0</td><td>Jan</td></tr>\n",
       "    <tr><td class='row_index'>9</td><td>1.9</td><td>Apparels</td><td>300</td><td>10</td><td>0.5</td><td>Jan</td></tr>\n",
       "    <tr><td class='row_index'>10</td><td>2</td><td>Apparels</td><td>16.448</td><td>2</td><td>0.2</td><td>Feb</td></tr>\n",
       "    <tr><td class='row_index'>11</td><td>2.1</td><td>Flowers</td><td>65</td><td>87</td><td>0.2</td><td>Feb</td></tr>\n",
       "    <tr><td class='row_index'>12</td><td>2.2</td><td>International Cuisine</td><td>272.736</td><td>3</td><td>0.2</td><td>Feb</td></tr>\n",
       "    <tr><td class='row_index'>13</td><td>2.3</td><td>Paper Products </td><td>3.54</td><td>2</td><td>0.8</td><td>Feb</td></tr>\n",
       "    <tr><td class='row_index'>14</td><td>2.4</td><td>gift cards</td><td>19.536</td><td>3</td><td>0.2</td><td>Feb</td></tr>\n",
       "    <tr><td class='row_index'>15</td><td>2.5</td><td>Pet Care</td><td>19.44</td><td>3</td><td>0</td><td>Feb</td></tr>\n",
       "    <tr><td class='row_index'>16</td><td>2.6</td><td>Pharmacy</td><td>12.78</td><td>3</td><td>0</td><td>Feb</td></tr>\n",
       "    <tr><td class='row_index'>17</td><td>2.7</td><td>Grocery</td><td>2573.82</td><td>9</td><td>0</td><td>Feb</td></tr>\n",
       "    <tr><td class='row_index'>18</td><td>2.8</td><td>Pet Care</td><td>609.98</td><td>2</td><td>0</td><td>Feb</td></tr>\n",
       "    <tr><td class='row_index'>19</td><td>2.9</td><td>Pharmacy</td><td>300</td><td>10</td><td>0.5</td><td>Feb</td></tr>\n",
       "  </tbody>\n",
       "  </table>\n",
       "  <div class='footer'>\n",
       "    <div class='frame_dimensions'>20 rows &times; 6 columns</div>\n",
       "  </div>\n",
       "</div>\n"
      ],
      "text/plain": [
       "<Frame#7fafa448eee0 20x6>"
      ]
     },
     "execution_count": 60,
     "metadata": {},
     "output_type": "execute_result"
    }
   ],
   "source": [
    "orders_jan.rbind(orders_feb)\n",
    "orders_total = orders_jan\n",
    "orders_total"
   ]
  },
  {
   "cell_type": "markdown",
   "metadata": {},
   "source": [
    "**Exercise 63: Display the `returns` frame and join it to the orders frame on the `Order ID` column and name the resultant frame as `orders`**"
   ]
  },
  {
   "cell_type": "code",
   "execution_count": 61,
   "metadata": {},
   "outputs": [
    {
     "data": {
      "text/html": [
       "<div class='datatable'>\n",
       "  <table class='frame'>\n",
       "  <thead>\n",
       "    <tr class='colnames'><td class='row_index'></td><th>Number of Records</th><th>Order ID</th><th>Updated Order Returns</th></tr>\n",
       "    <tr class='coltypes'><td class='row_index'></td><td class='int' title='int32'>&#x25AA;&#x25AA;&#x25AA;&#x25AA;</td><td class='float' title='float64'>&#x25AA;&#x25AA;&#x25AA;&#x25AA;&#x25AA;&#x25AA;&#x25AA;&#x25AA;</td><td class='str' title='str32'>&#x25AA;&#x25AA;&#x25AA;&#x25AA;</td></tr>\n",
       "  </thead>\n",
       "  <tbody>\n",
       "    <tr><td class='row_index'>0</td><td>1</td><td>1</td><td>Inaccurate</td></tr>\n",
       "    <tr><td class='row_index'>1</td><td>10</td><td>1.1</td><td>Late Delivery</td></tr>\n",
       "    <tr><td class='row_index'>2</td><td>1</td><td>1.2</td><td>Product Damaged</td></tr>\n",
       "    <tr><td class='row_index'>3</td><td>1</td><td>1.3</td><td>Incorrect Products Delivered</td></tr>\n",
       "    <tr><td class='row_index'>4</td><td>8</td><td>1.4</td><td>Description Inaccurate</td></tr>\n",
       "    <tr><td class='row_index'>5</td><td>1</td><td>1.5</td><td>Description Inaccurate</td></tr>\n",
       "    <tr><td class='row_index'>6</td><td>1</td><td>1.6</td><td>Customer Dissatified With Product</td></tr>\n",
       "    <tr><td class='row_index'>7</td><td>14</td><td>1.7</td><td>Customer Dissatified With Product</td></tr>\n",
       "    <tr><td class='row_index'>8</td><td>1</td><td>1.8</td><td>Description Inaccurate</td></tr>\n",
       "    <tr><td class='row_index'>9</td><td>1</td><td>1.9</td><td>Procut Description Inaccurate</td></tr>\n",
       "  </tbody>\n",
       "  </table>\n",
       "  <div class='footer'>\n",
       "    <div class='frame_dimensions'>10 rows &times; 3 columns</div>\n",
       "  </div>\n",
       "</div>\n"
      ],
      "text/plain": [
       "<Frame#7fafa8327df0 10x3>"
      ]
     },
     "execution_count": 61,
     "metadata": {},
     "output_type": "execute_result"
    }
   ],
   "source": [
    "returns.head()"
   ]
  },
  {
   "cell_type": "code",
   "execution_count": 62,
   "metadata": {},
   "outputs": [
    {
     "data": {
      "text/html": [
       "<div class='datatable'>\n",
       "  <table class='frame'>\n",
       "  <thead>\n",
       "    <tr class='colnames'><td class='row_index'></td><th>Number of Records</th><th>Order ID</th><th>Updated Order Returns</th><th>Category</th><th>Sales</th><th>Quantity</th><th>Discount</th><th>Month</th></tr>\n",
       "    <tr class='coltypes'><td class='row_index'></td><td class='int' title='int32'>&#x25AA;&#x25AA;&#x25AA;&#x25AA;</td><td class='float' title='float64'>&#x25AA;&#x25AA;&#x25AA;&#x25AA;&#x25AA;&#x25AA;&#x25AA;&#x25AA;</td><td class='str' title='str32'>&#x25AA;&#x25AA;&#x25AA;&#x25AA;</td><td class='str' title='str32'>&#x25AA;&#x25AA;&#x25AA;&#x25AA;</td><td class='float' title='float64'>&#x25AA;&#x25AA;&#x25AA;&#x25AA;&#x25AA;&#x25AA;&#x25AA;&#x25AA;</td><td class='int' title='int32'>&#x25AA;&#x25AA;&#x25AA;&#x25AA;</td><td class='float' title='float64'>&#x25AA;&#x25AA;&#x25AA;&#x25AA;&#x25AA;&#x25AA;&#x25AA;&#x25AA;</td><td class='str' title='str32'>&#x25AA;&#x25AA;&#x25AA;&#x25AA;</td></tr>\n",
       "  </thead>\n",
       "  <tbody>\n",
       "    <tr><td class='row_index'>0</td><td>1</td><td>1</td><td>Inaccurate</td><td>Apparels</td><td>16.448</td><td>2</td><td>0.2</td><td>Jan</td></tr>\n",
       "    <tr><td class='row_index'>1</td><td>10</td><td>1.1</td><td>Late Delivery</td><td>Electronics</td><td>65</td><td>87</td><td>0.2</td><td>Jan</td></tr>\n",
       "    <tr><td class='row_index'>2</td><td>1</td><td>1.2</td><td>Product Damaged</td><td>Cosmetics</td><td>272.736</td><td>3</td><td>0.2</td><td>Jan</td></tr>\n",
       "    <tr><td class='row_index'>3</td><td>1</td><td>1.3</td><td>Incorrect Products Delivered</td><td>Apparels</td><td>3.54</td><td>2</td><td>0.8</td><td>Jan</td></tr>\n",
       "    <tr><td class='row_index'>4</td><td>8</td><td>1.4</td><td>Description Inaccurate</td><td>Cosmetics</td><td>19.536</td><td>3</td><td>0.2</td><td>Jan</td></tr>\n",
       "    <tr><td class='row_index'>5</td><td>1</td><td>1.5</td><td>Description Inaccurate</td><td>Electronics</td><td>19.44</td><td>3</td><td>0</td><td>Jan</td></tr>\n",
       "    <tr><td class='row_index'>6</td><td>1</td><td>1.6</td><td>Customer Dissatified With Product</td><td>Apparels</td><td>12.78</td><td>3</td><td>0</td><td>Jan</td></tr>\n",
       "    <tr><td class='row_index'>7</td><td>14</td><td>1.7</td><td>Customer Dissatified With Product</td><td>Apparels</td><td>2573.82</td><td>9</td><td>0</td><td>Jan</td></tr>\n",
       "    <tr><td class='row_index'>8</td><td>1</td><td>1.8</td><td>Description Inaccurate</td><td>Cosmetics</td><td>609.98</td><td>2</td><td>0</td><td>Jan</td></tr>\n",
       "    <tr><td class='row_index'>9</td><td>1</td><td>1.9</td><td>Procut Description Inaccurate</td><td>Apparels</td><td>300</td><td>10</td><td>0.5</td><td>Jan</td></tr>\n",
       "    <tr><td class='row_index'>10</td><td>1</td><td>2</td><td>Inaccurate</td><td>Apparels</td><td>16.448</td><td>2</td><td>0.2</td><td>Feb</td></tr>\n",
       "    <tr><td class='row_index'>11</td><td>10</td><td>2.1</td><td>Late Delivery</td><td>Flowers</td><td>65</td><td>87</td><td>0.2</td><td>Feb</td></tr>\n",
       "    <tr><td class='row_index'>12</td><td>1</td><td>2.2</td><td>Product Damaged</td><td>International Cuisine</td><td>272.736</td><td>3</td><td>0.2</td><td>Feb</td></tr>\n",
       "    <tr><td class='row_index'>13</td><td>1</td><td>2.3</td><td>Incorrect Products Delivered</td><td>Paper Products </td><td>3.54</td><td>2</td><td>0.8</td><td>Feb</td></tr>\n",
       "    <tr><td class='row_index'>14</td><td>8</td><td>2.4</td><td>Description Inaccurate</td><td>gift cards</td><td>19.536</td><td>3</td><td>0.2</td><td>Feb</td></tr>\n",
       "    <tr><td class='row_index'>15</td><td>1</td><td>2.5</td><td>Description Inaccurate</td><td>Pet Care</td><td>19.44</td><td>3</td><td>0</td><td>Feb</td></tr>\n",
       "    <tr><td class='row_index'>16</td><td>1</td><td>2.6</td><td>Customer Dissatified With Product</td><td>Pharmacy</td><td>12.78</td><td>3</td><td>0</td><td>Feb</td></tr>\n",
       "    <tr><td class='row_index'>17</td><td>14</td><td>2.7</td><td>Customer Dissatified With Product</td><td>Grocery</td><td>2573.82</td><td>9</td><td>0</td><td>Feb</td></tr>\n",
       "    <tr><td class='row_index'>18</td><td>1</td><td>2.8</td><td>Description Inaccurate</td><td>Pet Care</td><td>609.98</td><td>2</td><td>0</td><td>Feb</td></tr>\n",
       "    <tr><td class='row_index'>19</td><td>1</td><td>2.9</td><td>Procut Description Inaccurate</td><td>Pharmacy</td><td>300</td><td>10</td><td>0.5</td><td>Feb</td></tr>\n",
       "  </tbody>\n",
       "  </table>\n",
       "  <div class='footer'>\n",
       "    <div class='frame_dimensions'>20 rows &times; 8 columns</div>\n",
       "  </div>\n",
       "</div>\n"
      ],
      "text/plain": [
       "<Frame#7fafa85a1b48 20x8>"
      ]
     },
     "execution_count": 62,
     "metadata": {},
     "output_type": "execute_result"
    }
   ],
   "source": [
    "orders_total.key = \"Order ID\"\n",
    "orders = returns[:, :, dt.join(orders_total)]\n",
    "orders"
   ]
  },
  {
   "cell_type": "markdown",
   "metadata": {},
   "source": [
    "**Exercise 64: Display the `people` frame and join it to the `orders` frame on the `Order ID` as well the `Month` column**"
   ]
  },
  {
   "cell_type": "code",
   "execution_count": 63,
   "metadata": {},
   "outputs": [
    {
     "data": {
      "text/html": [
       "<div class='datatable'>\n",
       "  <table class='frame'>\n",
       "  <thead>\n",
       "    <tr class='colnames'><td class='row_index'></td><th>Person</th><th>Region</th><th>Order ID</th><th>Month</th></tr>\n",
       "    <tr class='coltypes'><td class='row_index'></td><td class='str' title='str32'>&#x25AA;&#x25AA;&#x25AA;&#x25AA;</td><td class='str' title='str32'>&#x25AA;&#x25AA;&#x25AA;&#x25AA;</td><td class='float' title='float64'>&#x25AA;&#x25AA;&#x25AA;&#x25AA;&#x25AA;&#x25AA;&#x25AA;&#x25AA;</td><td class='str' title='str32'>&#x25AA;&#x25AA;&#x25AA;&#x25AA;</td></tr>\n",
       "  </thead>\n",
       "  <tbody>\n",
       "    <tr><td class='row_index'>0</td><td>Amy</td><td>West</td><td>1.2</td><td>Jan</td></tr>\n",
       "    <tr><td class='row_index'>1</td><td>Peter</td><td>East</td><td>2.1</td><td>Feb</td></tr>\n",
       "    <tr><td class='row_index'>2</td><td>William</td><td>Central</td><td>1.4</td><td>Jan</td></tr>\n",
       "    <tr><td class='row_index'>3</td><td>Nancy</td><td>South</td><td>1.3</td><td>Jan</td></tr>\n",
       "    <tr><td class='row_index'>4</td><td>Isabella</td><td>West</td><td>1.6</td><td>Jan</td></tr>\n",
       "    <tr><td class='row_index'>5</td><td>Tom</td><td>East</td><td>1.7</td><td>Jan</td></tr>\n",
       "    <tr><td class='row_index'>6</td><td>Mary</td><td>South</td><td>2.3</td><td>Feb</td></tr>\n",
       "    <tr><td class='row_index'>7</td><td>Amy</td><td>West</td><td>2.4</td><td>Feb</td></tr>\n",
       "    <tr><td class='row_index'>8</td><td>Peter</td><td>East</td><td>2.5</td><td>Feb</td></tr>\n",
       "    <tr><td class='row_index'>9</td><td>William</td><td>Central</td><td>1.8</td><td>Jan</td></tr>\n",
       "    <tr><td class='row_index'>10</td><td>Nancy</td><td>South</td><td>2.7</td><td>Feb</td></tr>\n",
       "    <tr><td class='row_index'>11</td><td>Isabella</td><td>West</td><td>1.5</td><td>Jan</td></tr>\n",
       "    <tr><td class='row_index'>12</td><td>Tom</td><td>East</td><td>2</td><td>Feb</td></tr>\n",
       "    <tr><td class='row_index'>13</td><td>Mary</td><td>South</td><td>1.9</td><td>Jan</td></tr>\n",
       "  </tbody>\n",
       "  </table>\n",
       "  <div class='footer'>\n",
       "    <div class='frame_dimensions'>14 rows &times; 4 columns</div>\n",
       "  </div>\n",
       "</div>\n"
      ],
      "text/plain": [
       "<Frame#7fafa453c9e0 14x4>"
      ]
     },
     "execution_count": 63,
     "metadata": {},
     "output_type": "execute_result"
    }
   ],
   "source": [
    "people"
   ]
  },
  {
   "cell_type": "code",
   "execution_count": 64,
   "metadata": {},
   "outputs": [
    {
     "data": {
      "text/html": [
       "<div class='datatable'>\n",
       "  <table class='frame'>\n",
       "  <thead>\n",
       "    <tr class='colnames'><td class='row_index'></td><th>Number of Records</th><th>Order ID</th><th>Updated Order Returns</th><th>Category</th><th>Sales</th><th>Quantity</th><th>Discount</th><th>Month</th><th>Person</th><th>Region</th></tr>\n",
       "    <tr class='coltypes'><td class='row_index'></td><td class='int' title='int32'>&#x25AA;&#x25AA;&#x25AA;&#x25AA;</td><td class='float' title='float64'>&#x25AA;&#x25AA;&#x25AA;&#x25AA;&#x25AA;&#x25AA;&#x25AA;&#x25AA;</td><td class='str' title='str32'>&#x25AA;&#x25AA;&#x25AA;&#x25AA;</td><td class='str' title='str32'>&#x25AA;&#x25AA;&#x25AA;&#x25AA;</td><td class='float' title='float64'>&#x25AA;&#x25AA;&#x25AA;&#x25AA;&#x25AA;&#x25AA;&#x25AA;&#x25AA;</td><td class='int' title='int32'>&#x25AA;&#x25AA;&#x25AA;&#x25AA;</td><td class='float' title='float64'>&#x25AA;&#x25AA;&#x25AA;&#x25AA;&#x25AA;&#x25AA;&#x25AA;&#x25AA;</td><td class='str' title='str32'>&#x25AA;&#x25AA;&#x25AA;&#x25AA;</td><td class='str' title='str32'>&#x25AA;&#x25AA;&#x25AA;&#x25AA;</td><td class='str' title='str32'>&#x25AA;&#x25AA;&#x25AA;&#x25AA;</td></tr>\n",
       "  </thead>\n",
       "  <tbody>\n",
       "    <tr><td class='row_index'>0</td><td>1</td><td>1</td><td>Inaccurate</td><td>Apparels</td><td>16.448</td><td>2</td><td>0.2</td><td>Jan</td><td><span class=na>NA</span></td><td><span class=na>NA</span></td></tr>\n",
       "    <tr><td class='row_index'>1</td><td>10</td><td>1.1</td><td>Late Delivery</td><td>Electronics</td><td>65</td><td>87</td><td>0.2</td><td>Jan</td><td><span class=na>NA</span></td><td><span class=na>NA</span></td></tr>\n",
       "    <tr><td class='row_index'>2</td><td>1</td><td>1.2</td><td>Product Damaged</td><td>Cosmetics</td><td>272.736</td><td>3</td><td>0.2</td><td>Jan</td><td>Amy</td><td>West</td></tr>\n",
       "    <tr><td class='row_index'>3</td><td>1</td><td>1.3</td><td>Incorrect Products Delivered</td><td>Apparels</td><td>3.54</td><td>2</td><td>0.8</td><td>Jan</td><td>Nancy</td><td>South</td></tr>\n",
       "    <tr><td class='row_index'>4</td><td>8</td><td>1.4</td><td>Description Inaccurate</td><td>Cosmetics</td><td>19.536</td><td>3</td><td>0.2</td><td>Jan</td><td>William</td><td>Central</td></tr>\n",
       "    <tr><td class='row_index'>5</td><td>1</td><td>1.5</td><td>Description Inaccurate</td><td>Electronics</td><td>19.44</td><td>3</td><td>0</td><td>Jan</td><td>Isabella</td><td>West</td></tr>\n",
       "    <tr><td class='row_index'>6</td><td>1</td><td>1.6</td><td>Customer Dissatified With Product</td><td>Apparels</td><td>12.78</td><td>3</td><td>0</td><td>Jan</td><td>Isabella</td><td>West</td></tr>\n",
       "    <tr><td class='row_index'>7</td><td>14</td><td>1.7</td><td>Customer Dissatified With Product</td><td>Apparels</td><td>2573.82</td><td>9</td><td>0</td><td>Jan</td><td>Tom</td><td>East</td></tr>\n",
       "    <tr><td class='row_index'>8</td><td>1</td><td>1.8</td><td>Description Inaccurate</td><td>Cosmetics</td><td>609.98</td><td>2</td><td>0</td><td>Jan</td><td>William</td><td>Central</td></tr>\n",
       "    <tr><td class='row_index'>9</td><td>1</td><td>1.9</td><td>Procut Description Inaccurate</td><td>Apparels</td><td>300</td><td>10</td><td>0.5</td><td>Jan</td><td>Mary</td><td>South</td></tr>\n",
       "  </tbody>\n",
       "  </table>\n",
       "  <div class='footer'>\n",
       "    <div class='frame_dimensions'>10 rows &times; 10 columns</div>\n",
       "  </div>\n",
       "</div>\n"
      ],
      "text/plain": [
       "<Frame#7fafa85a1d50 10x10>"
      ]
     },
     "execution_count": 64,
     "metadata": {},
     "output_type": "execute_result"
    }
   ],
   "source": [
    "people.key = [\"Order ID\",'Month']\n",
    "orders[:, :, dt.join(people)].head()"
   ]
  },
  {
   "cell_type": "markdown",
   "metadata": {},
   "source": [
    "**Exercise 65: Read the `orders_jan` frame again and display all the categories sold in the month of January and February**"
   ]
  },
  {
   "cell_type": "code",
   "execution_count": 65,
   "metadata": {},
   "outputs": [],
   "source": [
    "orders_jan=dt.fread(\"./Data/orders_jan.csv\")\n"
   ]
  },
  {
   "cell_type": "code",
   "execution_count": 66,
   "metadata": {},
   "outputs": [
    {
     "data": {
      "text/html": [
       "<div class='datatable'>\n",
       "  <table class='frame'>\n",
       "  <thead>\n",
       "    <tr class='colnames'><td class='row_index'></td><th>Category</th></tr>\n",
       "    <tr class='coltypes'><td class='row_index'></td><td class='str' title='str32'>&#x25AA;&#x25AA;&#x25AA;&#x25AA;</td></tr>\n",
       "  </thead>\n",
       "  <tbody>\n",
       "    <tr><td class='row_index'>0</td><td>Apparels</td></tr>\n",
       "    <tr><td class='row_index'>1</td><td>Cosmetics</td></tr>\n",
       "    <tr><td class='row_index'>2</td><td>Electronics</td></tr>\n",
       "    <tr><td class='row_index'>3</td><td>Flowers</td></tr>\n",
       "    <tr><td class='row_index'>4</td><td>Grocery</td></tr>\n",
       "    <tr><td class='row_index'>5</td><td>International Cuisine</td></tr>\n",
       "    <tr><td class='row_index'>6</td><td>Paper Products </td></tr>\n",
       "    <tr><td class='row_index'>7</td><td>Pet Care</td></tr>\n",
       "    <tr><td class='row_index'>8</td><td>Pharmacy</td></tr>\n",
       "    <tr><td class='row_index'>9</td><td>gift cards</td></tr>\n",
       "  </tbody>\n",
       "  </table>\n",
       "  <div class='footer'>\n",
       "    <div class='frame_dimensions'>10 rows &times; 1 column</div>\n",
       "  </div>\n",
       "</div>\n"
      ],
      "text/plain": [
       "<Frame#7fafa8327e90 10x1>"
      ]
     },
     "execution_count": 66,
     "metadata": {},
     "output_type": "execute_result"
    }
   ],
   "source": [
    "dt.union(orders_jan['Category'], orders_feb['Category'])\n"
   ]
  },
  {
   "cell_type": "markdown",
   "metadata": {},
   "source": [
    "**Exercise 66: Which category of items is common to January as well as February?**"
   ]
  },
  {
   "cell_type": "code",
   "execution_count": 67,
   "metadata": {},
   "outputs": [
    {
     "data": {
      "text/html": [
       "<div class='datatable'>\n",
       "  <table class='frame'>\n",
       "  <thead>\n",
       "    <tr class='colnames'><td class='row_index'></td><th>Category</th></tr>\n",
       "    <tr class='coltypes'><td class='row_index'></td><td class='str' title='str32'>&#x25AA;&#x25AA;&#x25AA;&#x25AA;</td></tr>\n",
       "  </thead>\n",
       "  <tbody>\n",
       "    <tr><td class='row_index'>0</td><td>Apparels</td></tr>\n",
       "  </tbody>\n",
       "  </table>\n",
       "  <div class='footer'>\n",
       "    <div class='frame_dimensions'>1 row &times; 1 column</div>\n",
       "  </div>\n",
       "</div>\n"
      ],
      "text/plain": [
       "<Frame#7fafa8327c10 1x1>"
      ]
     },
     "execution_count": 67,
     "metadata": {},
     "output_type": "execute_result"
    }
   ],
   "source": [
    "dt.intersect(orders_jan['Category'], orders_feb['Category'])"
   ]
  },
  {
   "cell_type": "markdown",
   "metadata": {},
   "source": [
    "**Exercise 67: Which category of items is sold exclusively in January?**"
   ]
  },
  {
   "cell_type": "code",
   "execution_count": 68,
   "metadata": {},
   "outputs": [
    {
     "data": {
      "text/html": [
       "<div class='datatable'>\n",
       "  <table class='frame'>\n",
       "  <thead>\n",
       "    <tr class='colnames'><td class='row_index'></td><th>Category</th></tr>\n",
       "    <tr class='coltypes'><td class='row_index'></td><td class='str' title='str32'>&#x25AA;&#x25AA;&#x25AA;&#x25AA;</td></tr>\n",
       "  </thead>\n",
       "  <tbody>\n",
       "    <tr><td class='row_index'>0</td><td>Cosmetics</td></tr>\n",
       "    <tr><td class='row_index'>1</td><td>Electronics</td></tr>\n",
       "  </tbody>\n",
       "  </table>\n",
       "  <div class='footer'>\n",
       "    <div class='frame_dimensions'>2 rows &times; 1 column</div>\n",
       "  </div>\n",
       "</div>\n"
      ],
      "text/plain": [
       "<Frame#7fafa85a15d0 2x1>"
      ]
     },
     "execution_count": 68,
     "metadata": {},
     "output_type": "execute_result"
    }
   ],
   "source": [
    "dt.setdiff(orders_jan['Category'], orders_feb['Category'])"
   ]
  },
  {
   "cell_type": "markdown",
   "metadata": {},
   "source": [
    "**Exercise 68: Which category of items is sold exclusively in February?**"
   ]
  },
  {
   "cell_type": "code",
   "execution_count": 69,
   "metadata": {},
   "outputs": [
    {
     "data": {
      "text/html": [
       "<div class='datatable'>\n",
       "  <table class='frame'>\n",
       "  <thead>\n",
       "    <tr class='colnames'><td class='row_index'></td><th>Category</th></tr>\n",
       "    <tr class='coltypes'><td class='row_index'></td><td class='str' title='str32'>&#x25AA;&#x25AA;&#x25AA;&#x25AA;</td></tr>\n",
       "  </thead>\n",
       "  <tbody>\n",
       "    <tr><td class='row_index'>0</td><td>Flowers</td></tr>\n",
       "    <tr><td class='row_index'>1</td><td>Grocery</td></tr>\n",
       "    <tr><td class='row_index'>2</td><td>International Cuisine</td></tr>\n",
       "    <tr><td class='row_index'>3</td><td>Paper Products </td></tr>\n",
       "    <tr><td class='row_index'>4</td><td>Pet Care</td></tr>\n",
       "    <tr><td class='row_index'>5</td><td>Pharmacy</td></tr>\n",
       "    <tr><td class='row_index'>6</td><td>gift cards</td></tr>\n",
       "  </tbody>\n",
       "  </table>\n",
       "  <div class='footer'>\n",
       "    <div class='frame_dimensions'>7 rows &times; 1 column</div>\n",
       "  </div>\n",
       "</div>\n"
      ],
      "text/plain": [
       "<Frame#7fafa8327f30 7x1>"
      ]
     },
     "execution_count": 69,
     "metadata": {},
     "output_type": "execute_result"
    }
   ],
   "source": [
    "dt.setdiff(orders_feb['Category'], orders_jan['Category'])"
   ]
  },
  {
   "cell_type": "markdown",
   "metadata": {},
   "source": [
    "**Exercise 69: Which category of items were sold individually in either of the months but never together?**"
   ]
  },
  {
   "cell_type": "code",
   "execution_count": 70,
   "metadata": {},
   "outputs": [
    {
     "data": {
      "text/html": [
       "<div class='datatable'>\n",
       "  <table class='frame'>\n",
       "  <thead>\n",
       "    <tr class='colnames'><td class='row_index'></td><th>Category</th></tr>\n",
       "    <tr class='coltypes'><td class='row_index'></td><td class='str' title='str32'>&#x25AA;&#x25AA;&#x25AA;&#x25AA;</td></tr>\n",
       "  </thead>\n",
       "  <tbody>\n",
       "    <tr><td class='row_index'>0</td><td>Cosmetics</td></tr>\n",
       "    <tr><td class='row_index'>1</td><td>Electronics</td></tr>\n",
       "    <tr><td class='row_index'>2</td><td>Flowers</td></tr>\n",
       "    <tr><td class='row_index'>3</td><td>Grocery</td></tr>\n",
       "    <tr><td class='row_index'>4</td><td>International Cuisine</td></tr>\n",
       "    <tr><td class='row_index'>5</td><td>Paper Products </td></tr>\n",
       "    <tr><td class='row_index'>6</td><td>Pet Care</td></tr>\n",
       "    <tr><td class='row_index'>7</td><td>Pharmacy</td></tr>\n",
       "    <tr><td class='row_index'>8</td><td>gift cards</td></tr>\n",
       "  </tbody>\n",
       "  </table>\n",
       "  <div class='footer'>\n",
       "    <div class='frame_dimensions'>9 rows &times; 1 column</div>\n",
       "  </div>\n",
       "</div>\n"
      ],
      "text/plain": [
       "<Frame#7fafa8327a30 9x1>"
      ]
     },
     "execution_count": 70,
     "metadata": {},
     "output_type": "execute_result"
    }
   ],
   "source": [
    "dt.symdiff(orders_feb['Category'], orders_jan['Category'])"
   ]
  },
  {
   "cell_type": "markdown",
   "metadata": {},
   "source": [
    "**Exercise 70: Calculate Net Sales by multiplying `Sales` and `Quantity` and applying the `Discount` and then append it to the `returns` frame**"
   ]
  },
  {
   "cell_type": "code",
   "execution_count": 71,
   "metadata": {},
   "outputs": [
    {
     "data": {
      "text/html": [
       "<div class='datatable'>\n",
       "  <table class='frame'>\n",
       "  <thead>\n",
       "    <tr class='colnames'><td class='row_index'></td><th>Number of Records</th><th>Order ID</th><th>Updated Order Returns</th><th>Net Sales</th></tr>\n",
       "    <tr class='coltypes'><td class='row_index'></td><td class='int' title='int32'>&#x25AA;&#x25AA;&#x25AA;&#x25AA;</td><td class='float' title='float64'>&#x25AA;&#x25AA;&#x25AA;&#x25AA;&#x25AA;&#x25AA;&#x25AA;&#x25AA;</td><td class='str' title='str32'>&#x25AA;&#x25AA;&#x25AA;&#x25AA;</td><td class='float' title='float64'>&#x25AA;&#x25AA;&#x25AA;&#x25AA;&#x25AA;&#x25AA;&#x25AA;&#x25AA;</td></tr>\n",
       "  </thead>\n",
       "  <tbody>\n",
       "    <tr><td class='row_index'>0</td><td>1</td><td>1</td><td>Inaccurate</td><td>32.696</td></tr>\n",
       "    <tr><td class='row_index'>1</td><td>10</td><td>1.1</td><td>Late Delivery</td><td>5654.8</td></tr>\n",
       "    <tr><td class='row_index'>2</td><td>1</td><td>1.2</td><td>Product Damaged</td><td>818.008</td></tr>\n",
       "    <tr><td class='row_index'>3</td><td>1</td><td>1.3</td><td>Incorrect Products Delivered</td><td>6.28</td></tr>\n",
       "    <tr><td class='row_index'>4</td><td>8</td><td>1.4</td><td>Description Inaccurate</td><td>58.408</td></tr>\n",
       "    <tr><td class='row_index'>5</td><td>1</td><td>1.5</td><td>Description Inaccurate</td><td>58.32</td></tr>\n",
       "    <tr><td class='row_index'>6</td><td>1</td><td>1.6</td><td>Customer Dissatified With Product</td><td>38.34</td></tr>\n",
       "    <tr><td class='row_index'>7</td><td>14</td><td>1.7</td><td>Customer Dissatified With Product</td><td>23164.4</td></tr>\n",
       "    <tr><td class='row_index'>8</td><td>1</td><td>1.8</td><td>Description Inaccurate</td><td>1219.96</td></tr>\n",
       "    <tr><td class='row_index'>9</td><td>1</td><td>1.9</td><td>Procut Description Inaccurate</td><td>2999.5</td></tr>\n",
       "    <tr><td class='row_index'>10</td><td>1</td><td>2</td><td>Inaccurate</td><td>32.696</td></tr>\n",
       "    <tr><td class='row_index'>11</td><td>10</td><td>2.1</td><td>Late Delivery</td><td>5654.8</td></tr>\n",
       "    <tr><td class='row_index'>12</td><td>1</td><td>2.2</td><td>Product Damaged</td><td>818.008</td></tr>\n",
       "    <tr><td class='row_index'>13</td><td>1</td><td>2.3</td><td>Incorrect Products Delivered</td><td>6.28</td></tr>\n",
       "    <tr><td class='row_index'>14</td><td>8</td><td>2.4</td><td>Description Inaccurate</td><td>58.408</td></tr>\n",
       "    <tr><td class='row_index'>15</td><td>1</td><td>2.5</td><td>Description Inaccurate</td><td>58.32</td></tr>\n",
       "    <tr><td class='row_index'>16</td><td>1</td><td>2.6</td><td>Customer Dissatified With Product</td><td>38.34</td></tr>\n",
       "    <tr><td class='row_index'>17</td><td>14</td><td>2.7</td><td>Customer Dissatified With Product</td><td>23164.4</td></tr>\n",
       "    <tr><td class='row_index'>18</td><td>1</td><td>2.8</td><td>Description Inaccurate</td><td>1219.96</td></tr>\n",
       "    <tr><td class='row_index'>19</td><td>1</td><td>2.9</td><td>Procut Description Inaccurate</td><td>2999.5</td></tr>\n",
       "  </tbody>\n",
       "  </table>\n",
       "  <div class='footer'>\n",
       "    <div class='frame_dimensions'>20 rows &times; 4 columns</div>\n",
       "  </div>\n",
       "</div>\n"
      ],
      "text/plain": [
       "<Frame#7fafa8327af8 20x4>"
      ]
     },
     "execution_count": 71,
     "metadata": {},
     "output_type": "execute_result"
    }
   ],
   "source": [
    "orders_total['Net Sales'] = (dt.f.Sales * dt.f.Quantity) - dt.f.Discount\n",
    "returns.cbind(orders_total['Net Sales'])\n",
    "returns"
   ]
  },
  {
   "cell_type": "markdown",
   "metadata": {},
   "source": [
    "<center>\n",
    "    ✅ This completes Set 7: Grouping Methods (Exercises 51-60) of <b>DatatableTon</b>: <i>💯 datatable exercises</i>\n",
    "    <br>\n",
    "    Set 8 is coming soon!\n",
    "    <br>\n",
    "    <br>\n",
    "    You can find all the exercises and solutions on <a href=\"https://github.com/vopani/datatableton#exercises-\">GitHub</a>\n",
    "</center>"
   ]
  },
  {
   "cell_type": "code",
   "execution_count": null,
   "metadata": {},
   "outputs": [],
   "source": []
  }
 ],
 "metadata": {
  "kernelspec": {
   "display_name": "Python 3",
   "language": "python",
   "name": "python3"
  },
  "language_info": {
   "codemirror_mode": {
    "name": "ipython",
    "version": 3
   },
   "file_extension": ".py",
   "mimetype": "text/x-python",
   "name": "python",
   "nbconvert_exporter": "python",
   "pygments_lexer": "ipython3",
   "version": "3.7.3"
  }
 },
 "nbformat": 4,
 "nbformat_minor": 4
}
